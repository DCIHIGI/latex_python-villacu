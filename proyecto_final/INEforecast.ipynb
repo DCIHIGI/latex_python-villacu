{
 "cells": [
  {
   "cell_type": "markdown",
   "metadata": {},
   "source": [
    "# Pronóstico de ocupación de casillas a marzo 2021\n",
    "## Emilio Villa Cueva\n",
    "Se usaron datos del INE "
   ]
  },
  {
   "cell_type": "code",
   "execution_count": 1,
   "metadata": {},
   "outputs": [],
   "source": [
    "#importa librerías a usar\n",
    "import numpy as np\n",
    "import matplotlib.pyplot as plt\n",
    "import pandas as pd\n",
    "from sklearn.linear_model import LinearRegression"
   ]
  },
  {
   "cell_type": "code",
   "execution_count": 2,
   "metadata": {},
   "outputs": [
    {
     "name": "stderr",
     "output_type": "stream",
     "text": [
      "C:\\ProgramData\\Anaconda3\\lib\\site-packages\\IPython\\core\\interactiveshell.py:3071: DtypeWarning: Columns (7,8,9) have mixed types.Specify dtype option on import or set low_memory=False.\n",
      "  has_raised = await self.run_ast_nodes(code_ast.body, cell_name,\n"
     ]
    }
   ],
   "source": [
    "#Toma únicamente sección de guanajuato y columna de interés (lista_nacional)\n",
    "direct = 'datosabiertosINE/'\n",
    "filenames = ['00_mar19.txt','01_abr19.txt','02_may19.txt',\n",
    "             '03_jun19.txt','04_jul19.txt','05_ago19.txt','1_sep19.txt',\n",
    "             '2_oct19.txt','3_nov19.txt','4_dic19.txt',\n",
    "             '5_ene20.txt','6_feb20.txt','7_mar20.txt','8_abr20.txt','9_may20.txt',\n",
    "             '10_jun20.txt','11_jul20.txt','12_ago20.txt','13_sep20.txt','14_oct20.txt',\n",
    "             '15_nov20.txt','16_dic20.txt']\n",
    "short_fnames = [fn[-9:-4] for fn in filenames]\n",
    "\n",
    "ls = ['LISTA_NAL','LISTA_NACIONAL','LISTA']\n",
    "\n",
    "dfs = []\n",
    "for file in filenames:\n",
    "    tmp_df = (pd.read_csv(direct+file))\n",
    "    for nm in ls:\n",
    "        if nm in tmp_df.columns:\n",
    "            tmp_df.rename(columns={nm:'LISTA_N'}, inplace=True)\n",
    "    dfs.append(tmp_df)"
   ]
  },
  {
   "cell_type": "code",
   "execution_count": 3,
   "metadata": {},
   "outputs": [
    {
     "data": {
      "text/html": [
       "<div>\n",
       "<style scoped>\n",
       "    .dataframe tbody tr th:only-of-type {\n",
       "        vertical-align: middle;\n",
       "    }\n",
       "\n",
       "    .dataframe tbody tr th {\n",
       "        vertical-align: top;\n",
       "    }\n",
       "\n",
       "    .dataframe thead th {\n",
       "        text-align: right;\n",
       "    }\n",
       "</style>\n",
       "<table border=\"1\" class=\"dataframe\">\n",
       "  <thead>\n",
       "    <tr style=\"text-align: right;\">\n",
       "      <th></th>\n",
       "      <th>Periodo</th>\n",
       "      <th>SECCION</th>\n",
       "      <th>MUNICIPIO</th>\n",
       "      <th>LISTA_N</th>\n",
       "    </tr>\n",
       "  </thead>\n",
       "  <tbody>\n",
       "    <tr>\n",
       "      <th>17840</th>\n",
       "      <td>mar19</td>\n",
       "      <td>0.0</td>\n",
       "      <td>0.0</td>\n",
       "      <td>25173.0</td>\n",
       "    </tr>\n",
       "    <tr>\n",
       "      <th>17841</th>\n",
       "      <td>mar19</td>\n",
       "      <td>331.0</td>\n",
       "      <td>6.0</td>\n",
       "      <td>683.0</td>\n",
       "    </tr>\n",
       "    <tr>\n",
       "      <th>17842</th>\n",
       "      <td>mar19</td>\n",
       "      <td>332.0</td>\n",
       "      <td>6.0</td>\n",
       "      <td>762.0</td>\n",
       "    </tr>\n",
       "    <tr>\n",
       "      <th>17843</th>\n",
       "      <td>mar19</td>\n",
       "      <td>333.0</td>\n",
       "      <td>6.0</td>\n",
       "      <td>1055.0</td>\n",
       "    </tr>\n",
       "    <tr>\n",
       "      <th>17844</th>\n",
       "      <td>mar19</td>\n",
       "      <td>334.0</td>\n",
       "      <td>6.0</td>\n",
       "      <td>652.0</td>\n",
       "    </tr>\n",
       "  </tbody>\n",
       "</table>\n",
       "</div>"
      ],
      "text/plain": [
       "      Periodo  SECCION  MUNICIPIO  LISTA_N\n",
       "17840   mar19      0.0        0.0  25173.0\n",
       "17841   mar19    331.0        6.0    683.0\n",
       "17842   mar19    332.0        6.0    762.0\n",
       "17843   mar19    333.0        6.0   1055.0\n",
       "17844   mar19    334.0        6.0    652.0"
      ]
     },
     "execution_count": 3,
     "metadata": {},
     "output_type": "execute_result"
    }
   ],
   "source": [
    "#asigna nombre de periodo\n",
    "for i in range(len(filenames)):\n",
    "    #print(filenames[i][-9:-4])\n",
    "    dfs[i].insert(0,'Periodo',filenames[i][-9:-4])\n",
    "    \n",
    "#junta todo en un dataframe y toma únicamente los valores de  interés\n",
    "df = pd.concat(dfs)\n",
    "df_gto = df.loc[df['ENTIDAD'] == int(11)]\n",
    "df_gto=df_gto[['Periodo','SECCION','MUNICIPIO','LISTA_N']]\n",
    "df_gto.head()"
   ]
  },
  {
   "cell_type": "code",
   "execution_count": 4,
   "metadata": {},
   "outputs": [
    {
     "name": "stderr",
     "output_type": "stream",
     "text": [
      "<ipython-input-4-c521f281196b>:12: RuntimeWarning: divide by zero encountered in double_scalars\n",
      "  roc = pred[0]/aux[-1]\n"
     ]
    }
   ],
   "source": [
    "#calcula tasa de cambio por municipio usando regresion lineal\n",
    "N_mps=46\n",
    "rocs=[] #rate of change\n",
    "for mun in range(0,N_mps+1):\n",
    "    tmp=df_gto[df_gto['MUNICIPIO']==mun]\n",
    "    tmp=tmp.groupby(['Periodo']).sum()\n",
    "    tmp = tmp.reindex(short_fnames)\n",
    "    aux = np.asarray(tmp['LISTA_N'])\n",
    "    tst=np.swapaxes(np.array([np.linspace(1,22,22)]),0,1)\n",
    "    linReg = LinearRegression().fit(tst,aux)\n",
    "    pred=linReg.predict(np.array([[24]]))\n",
    "    roc = pred[0]/aux[-1]\n",
    "    rocs.append(roc)"
   ]
  },
  {
   "cell_type": "code",
   "execution_count": 5,
   "metadata": {},
   "outputs": [
    {
     "data": {
      "text/plain": [
       "Text(0.5, 1.0, 'Crecimiento lista nominal municipio 8')"
      ]
     },
     "execution_count": 5,
     "metadata": {},
     "output_type": "execute_result"
    },
    {
     "data": {
      "image/png": "[encoded data removed]",
      "text/plain": [
       "<Figure size 1152x288 with 1 Axes>"
      ]
     },
     "metadata": {
      "needs_background": "light"
     },
     "output_type": "display_data"
    }
   ],
   "source": [
    "#Para graficar municipios específicos\n",
    "M=8\n",
    "plt.figure(figsize=(16,4))\n",
    "tmp=df_gto[df_gto['MUNICIPIO']==M]\n",
    "tmp=tmp.groupby(['Periodo']).sum()\n",
    "tmp = tmp.reindex(short_fnames)\n",
    "aux = np.asarray(tmp['LISTA_N'])\n",
    "plt.plot(aux)\n",
    "plt.title('Crecimiento lista nominal municipio '+str(M))"
   ]
  },
  {
   "cell_type": "code",
   "execution_count": 6,
   "metadata": {},
   "outputs": [],
   "source": [
    "#Ahora se hace el pronóstio por sección\n",
    "df_tmp = df_gto.loc[df_gto['Periodo'] ==  'dic20']\n",
    "df_tmp=df_tmp.groupby(['SECCION']).sum()\n",
    "arr_LN=np.asarray(df_tmp['LISTA_N'])\n",
    "arr_M=np.asarray(df_tmp['MUNICIPIO'])\n",
    "forecast=[]\n",
    "#guarda tasas de cambio pronosticadas en forecast\n",
    "for s in range(1,len(arr_LN)):\n",
    "    forecast.append(arr_LN[s]*rocs[int(arr_M[s])])\n"
   ]
  },
  {
   "cell_type": "code",
   "execution_count": 7,
   "metadata": {},
   "outputs": [
    {
     "name": "stdout",
     "output_type": "stream",
     "text": [
      "El número total de casillas requerido es 7620\n"
     ]
    }
   ],
   "source": [
    "#Calcula numero de casillas necesarias\n",
    "#\n",
    "totCas=0\n",
    "for fc in forecast:\n",
    "    totCas+= np.ceil(fc/750.0)\n",
    "print('El número total de casillas requerido es {}'.format(int(totCas)))"
   ]
  },
  {
   "cell_type": "code",
   "execution_count": null,
   "metadata": {},
   "outputs": [],
   "source": []
  },
  {
   "cell_type": "code",
   "execution_count": null,
   "metadata": {},
   "outputs": [],
   "source": []
  }
 ],
 "metadata": {
  "kernelspec": {
   "display_name": "Python 3",
   "language": "python",
   "name": "python3"
  },
  "language_info": {
   "codemirror_mode": {
    "name": "ipython",
    "version": 3
   },
   "file_extension": ".py",
   "mimetype": "text/x-python",
   "name": "python",
   "nbconvert_exporter": "python",
   "pygments_lexer": "ipython3",
   "version": "3.8.3"
  }
 },
 "nbformat": 4,
 "nbformat_minor": 4
}
